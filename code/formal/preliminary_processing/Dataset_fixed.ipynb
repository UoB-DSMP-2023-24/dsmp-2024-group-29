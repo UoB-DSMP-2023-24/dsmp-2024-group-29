{
 "cells": [
  {
   "cell_type": "markdown",
   "id": "fe71ed08",
   "metadata": {},
   "source": [
    "### README\n",
    "\n",
    "* Timestamp\n",
    "  * Convert and merge timestamps.\n",
    "* Account No & Balance & Amount\n",
    "  * Eliminate errors in transaction information of a single user (based on the amount of each transaction and the latest balance).\n",
    "  * For a single user, find the vacancies outside the error range of the transaction information (balance, amount), and fill them with\\\n",
    "  unowned (Account No is invalid) information within the corresponding time range.\n",
    "  * If there are still gaps after transaction information has been filled, consider adding new rows.\n",
    "  * If there are still gaps after user information has been filled, consider changing it to 0 directly.\n",
    "* Third-party Account Classification\n",
    "  * Third-party Accounts with valid 'Names' will be classified according to their business content based on 'class2.xlsx', as follows:\n",
    "    * 1:  Technology & Cultural Development\n",
    "    * 2:  Fashion Trend\n",
    "    * 3:  Lifestyle & Entertainment Crafts\n",
    "    * 4:  Health & Living Services\n",
    "    * 5:  Dining & Leisure\n",
    "    * 6:  Comprehensive Retail Market\n",
    "    * 7:  Active Lifestyle & Fitness\n",
    "    * 8:  Financial Services & Accommodation\n",
    "  * Third-party Accounts with only valid 'Account No' will be classified as 'Personal'.\n",
    "  * Third-party Accounts with no valid information will be classified as 'Unknown'.\n",
    "  * Missing 'Accound No' information will be filled with 0, and missing 'Name' information will be filled according to its classification.\n",
    "* Save as CSV\n",
    "  * Export the DataFrame locally."
   ]
  },
  {
   "cell_type": "code",
   "execution_count": 1,
   "id": "8ed614ec",
   "metadata": {},
   "outputs": [],
   "source": [
    "import numpy as np\n",
    "import pandas as pd\n",
    "import matplotlib.pyplot as plt"
   ]
  },
  {
   "cell_type": "code",
   "execution_count": 2,
   "id": "ec933249",
   "metadata": {},
   "outputs": [
    {
     "name": "stdout",
     "output_type": "stream",
     "text": [
      "<class 'pandas.core.frame.DataFrame'>\n",
      "RangeIndex: 230596 entries, 0 to 230595\n",
      "Data columns (total 7 columns):\n",
      " #   Column                  Non-Null Count   Dtype  \n",
      "---  ------                  --------------   -----  \n",
      " 0   Date                    230367 non-null  object \n",
      " 1   Timestamp               230345 non-null  object \n",
      " 2   Account No              230372 non-null  float64\n",
      " 3   Balance                 230350 non-null  float64\n",
      " 4   Amount                  230387 non-null  float64\n",
      " 5   Third Party Account No  6832 non-null    float64\n",
      " 6   Third Party Name        223517 non-null  object \n",
      "dtypes: float64(4), object(3)\n",
      "memory usage: 12.3+ MB\n",
      "None\n"
     ]
    }
   ],
   "source": [
    "df=pd.read_csv('simulated_transaction_2024.csv')\n",
    "print(df.info())"
   ]
  },
  {
   "cell_type": "markdown",
   "id": "dda76a6d",
   "metadata": {},
   "source": [
    "### Timestamp"
   ]
  },
  {
   "cell_type": "code",
   "execution_count": 3,
   "id": "73c39c52",
   "metadata": {},
   "outputs": [],
   "source": [
    "df['Timestamp']=pd.to_datetime(df['Date']+' '+df['Timestamp'],format='%d/%m/%Y %H:%M')\n",
    "df=df.drop('Date',axis=1)"
   ]
  },
  {
   "cell_type": "code",
   "execution_count": 4,
   "id": "cfc9c992",
   "metadata": {},
   "outputs": [],
   "source": [
    "while len(df[df['Timestamp'].isnull()==False])!=230596:\n",
    "    temp_df=pd.DataFrame()\n",
    "    temp_df['before']=df['Timestamp'].shift(1)\n",
    "    temp_df['after']=df['Timestamp'].shift(-1)\n",
    "    temp_df['mean']=temp_df.mean(axis=1,skipna=True,numeric_only=False)\n",
    "    df['Timestamp']=df['Timestamp'].fillna(temp_df.mean)"
   ]
  },
  {
   "cell_type": "markdown",
   "id": "924d1093",
   "metadata": {},
   "source": [
    "### Account No & Balance & Amount"
   ]
  },
  {
   "cell_type": "code",
   "execution_count": 5,
   "id": "31ff1dd6",
   "metadata": {},
   "outputs": [
    {
     "name": "stdout",
     "output_type": "stream",
     "text": [
      "10.0\n"
     ]
    }
   ],
   "source": [
    "print(df[df.Amount>.001].Amount.abs().min())"
   ]
  },
  {
   "cell_type": "code",
   "execution_count": 6,
   "id": "5fdfe08c",
   "metadata": {},
   "outputs": [],
   "source": [
    "total_T=0\n",
    "total_F=0"
   ]
  },
  {
   "cell_type": "code",
   "execution_count": 7,
   "id": "7c616a36",
   "metadata": {},
   "outputs": [
    {
     "name": "stdout",
     "output_type": "stream",
     "text": [
      "========== The process is over ==========\n",
      "Successful: 222\n",
      "Failed: 0\n"
     ]
    }
   ],
   "source": [
    "users=list(set(df['Account No'].dropna()))\n",
    "nan_df=df[np.isnan(df['Account No'])==True]\n",
    "nan_users=np.array([nan_df.index.values,nan_df.Balance.values,nan_df.Amount.values])\n",
    "min_vacancy=1\n",
    "\n",
    "for user in users:\n",
    "    temp_df=df[df['Account No']==user].iloc[::-1]\n",
    "    temp_df=temp_df.round(2)\n",
    "    loop=True\n",
    "    \n",
    "    # fill nan\n",
    "    for t in range(2):\n",
    "        while len(temp_df[np.isnan(temp_df.iloc[:,2])==True])+len(temp_df[np.isnan(temp_df.iloc[:,3])==True])>0:\n",
    "            for index in range(len(temp_df)-1):\n",
    "                if pd.isna(temp_df.iloc[index,2])==True:\n",
    "                    temp_df.iloc[index,2]=temp_df.iloc[index-1,2]-temp_df.iloc[index-1,3]\n",
    "                if pd.isna(temp_df.iloc[index,3])==True:\n",
    "                    temp_df.iloc[index,3]=temp_df.iloc[index,2]-temp_df.iloc[index+1,2]\n",
    "        df[df['Account No']==user]=temp_df.iloc[::-1]\n",
    "        \n",
    "        # find and fit\n",
    "        \n",
    "        while loop==True:\n",
    "            loop=False\n",
    "            balance=[temp_df.iloc[0,2]]\n",
    "            amounts=temp_df.iloc[:,3].tolist()\n",
    "            for index in range(len(temp_df)-1):\n",
    "                balance.append(balance[-1]-amounts[index])\n",
    "                diff=balance[-1]-temp_df.iloc[index+1,2]\n",
    "                if abs(diff)>min_vacancy:\n",
    "                    after=temp_df.index[index]\n",
    "                    before=temp_df.index[index+1]\n",
    "                    \n",
    "                    a=np.argmin(nan_users[0]<after)\n",
    "                    b=np.argmax(nan_users[0]>before)\n",
    "                    \n",
    "                    if b<a:\n",
    "                        try:\n",
    "                            c1=np.nanargmin(np.abs(nan_users[1,b:a]-balance[-1]))\n",
    "                            c2=np.nanargmin(np.abs(nan_users[2,b:a]-diff))\n",
    "                        except:\n",
    "                            c1=np.argmin(np.abs(nan_users[1,b:a]-balance[-1]))\n",
    "                            c2=np.argmin(np.abs(nan_users[2,b:a]-diff))\n",
    "                        finally:\n",
    "                            c=np.intersect1d(c1,c2)+b\n",
    "                            if c.size==0:\n",
    "                                if np.where(nan_users[1,b:a]==nan_users[1,c1+b])[0].size>1 and \\\n",
    "                                np.where(nan_users[2,b:a]==nan_users[2,c2+b])[0].size>1:\n",
    "                                    print('Problem')\n",
    "                                elif np.where(nan_users[1,b:a]==nan_users[1,c1+b])[0].size>1:\n",
    "                                    c=c2+b\n",
    "                                else:\n",
    "                                    c=c1+b\n",
    "                    else:\n",
    "                        c=b\n",
    "                    \n",
    "                    if c.size>0 and abs(nan_users[1,c]-balance[-1])<1 and abs(nan_users[2,c]-diff)<1:\n",
    "                        total_T+=1\n",
    "                        df.iloc[int(nan_users[0,c]),1]=user\n",
    "                        temp_df.loc[int(nan_users[0,c])]=df.iloc[int(nan_users[0,c])]\n",
    "                        temp_df.sort_index(ascending=False,inplace=True)\n",
    "                        loop=True\n",
    "                    elif np.isnan(nan_users[1:2,c]).sum()>0:\n",
    "                        #nan=7796.92 -19.19\n",
    "                        total_T+=1\n",
    "                        df.iloc[int(nan_users[0,c]),1]=user\n",
    "                        temp_df.loc[int(nan_users[0,c])]=df.iloc[int(nan_users[0,c])]\n",
    "                        temp_df.sort_index(ascending=False,inplace=True)\n",
    "                    else:\n",
    "                        total_F+=1\n",
    "                        print('User '+str(int(user))+\"'s transaction record cannot be completed!!!\")\n",
    "                        \n",
    "                        #       If there are still failed attempts in the output,\n",
    "                        #  the following code will be improved and used to add new rows\n",
    "                        # to resolve transactions that cannot be filled with existing rows.\n",
    "                        \n",
    "                        #add_df=pd.DataFrame({'Timestamp':[temp_df.iloc[index+1,0]+(temp_df.iloc[index,0]-temp_df.iloc[index+1,0])/2],\n",
    "                                             #'Account No':[user],\n",
    "                                             #'Balance':[balance[-1]],\n",
    "                                             #'Amount':[diff],\n",
    "                                             #'Third Party Account No':[np.nan],\n",
    "                                             #'Third Party Name':[np.nan]\n",
    "                                            #})\n",
    "                        #cat_list=[temp_df.iloc[:index+1],add_df,temp_df.iloc[index+1:]]\n",
    "                        #pd.set_option('display.max_rows',len(temp_df)+1)\n",
    "                        #display(pd.concat(cat_list))\n",
    "                        #pd.reset_option('display.max_rows')\n",
    "                    \n",
    "                    np.delete(nan_users,c,1)\n",
    "                    break\n",
    "                    \n",
    "                temp_df.iloc[:index+2,2]=balance\n",
    "                \n",
    "    loop=False\n",
    "    \n",
    "print('========== The process is over ==========')\n",
    "print('Successful: '+str(total_T))\n",
    "print('Failed: '+str(total_F))"
   ]
  },
  {
   "cell_type": "markdown",
   "id": "588b3af1",
   "metadata": {},
   "source": [
    "### Third-party Account Classification"
   ]
  },
  {
   "cell_type": "code",
   "execution_count": 8,
   "id": "6807a9f1",
   "metadata": {},
   "outputs": [],
   "source": [
    "EN_dict=pd.read_excel('class2.xlsx').iloc[1:9,6].str.replace(' ','').to_dict()\n",
    "\n",
    "class_df=pd.read_excel('class2.xlsx').iloc[:,[0,2]]\n",
    "class_df.columns=['Name','Number']\n",
    "class_df['Name']=class_df['Name'].str.replace(\"' \",'')\n",
    "class_df=class_df.set_index('Name')\n",
    "class_df['Class']=class_df.replace({'Number':EN_dict})\n",
    "class_dict=class_df.to_dict()\n",
    "\n",
    "df['Classification Number']=df.replace({'Third Party Name':class_dict['Number']}).iloc[:,5]\n",
    "df['Classification Title']=df.replace({'Third Party Name':class_dict['Class']}).iloc[:,5]"
   ]
  },
  {
   "cell_type": "code",
   "execution_count": 9,
   "id": "f4595d0f",
   "metadata": {},
   "outputs": [
    {
     "name": "stdout",
     "output_type": "stream",
     "text": [
      "<class 'pandas.core.frame.DataFrame'>\n",
      "RangeIndex: 230596 entries, 0 to 230595\n",
      "Data columns (total 8 columns):\n",
      " #   Column                  Non-Null Count   Dtype  \n",
      "---  ------                  --------------   -----  \n",
      " 0   Timestamp               230596 non-null  object \n",
      " 1   Account No              230594 non-null  float64\n",
      " 2   Balance                 230596 non-null  float64\n",
      " 3   Amount                  230596 non-null  float64\n",
      " 4   Third Party Account No  6832 non-null    float64\n",
      " 5   Third Party Name        223517 non-null  object \n",
      " 6   Classification Number   223517 non-null  object \n",
      " 7   Classification Title    223517 non-null  object \n",
      "dtypes: float64(4), object(4)\n",
      "memory usage: 14.1+ MB\n",
      "None\n"
     ]
    }
   ],
   "source": [
    "print(df.info())"
   ]
  },
  {
   "cell_type": "code",
   "execution_count": 10,
   "id": "b423fa1d",
   "metadata": {},
   "outputs": [],
   "source": [
    "null_list=[]\n",
    "for col in df.columns:\n",
    "    null_list.append(list(df[df[col].isna()==True].index.values))\n",
    "unknown_TP=list(set(null_list[4]).intersection(set(set(null_list[5]))))\n",
    "df.iloc[unknown_TP,[5,7]]=df.iloc[unknown_TP,[5,7]].fillna('Unknown')\n",
    "\n",
    "df.iloc[:,[1,4,6]]=df.iloc[:,[1,4,6]].fillna(0)\n",
    "df.iloc[:,[5,7]]=df.iloc[:,[5,7]].fillna('Personal')"
   ]
  },
  {
   "cell_type": "markdown",
   "id": "69de3385",
   "metadata": {},
   "source": [
    "### Save as CSV"
   ]
  },
  {
   "cell_type": "code",
   "execution_count": 11,
   "id": "ad2bf726",
   "metadata": {},
   "outputs": [],
   "source": [
    "df.to_csv('fixed_simulated_transaction_2024.csv')"
   ]
  }
 ],
 "metadata": {
  "kernelspec": {
   "display_name": "Python 3 (ipykernel)",
   "language": "python",
   "name": "python3"
  },
  "language_info": {
   "codemirror_mode": {
    "name": "ipython",
    "version": 3
   },
   "file_extension": ".py",
   "mimetype": "text/x-python",
   "name": "python",
   "nbconvert_exporter": "python",
   "pygments_lexer": "ipython3",
   "version": "3.11.4"
  }
 },
 "nbformat": 4,
 "nbformat_minor": 5
}
